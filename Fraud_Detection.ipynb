{
 "cells": [
  {
   "cell_type": "markdown",
   "id": "ff009763-1fc6-4a04-b84f-bf2135a7ec7f",
   "metadata": {},
   "source": [
    "## Credit Card Fraud Detection"
   ]
  },
  {
   "cell_type": "code",
   "execution_count": 46,
   "id": "dbf8578b-6e2c-421d-9ce2-b0d34935fe24",
   "metadata": {},
   "outputs": [],
   "source": [
    "# Data preprocessing and visualization modules\n",
    "import pandas as pd\n",
    "import numpy as np\n",
    "import matplotlib.pyplot as plt\n",
    "import seaborn as sns\n",
    "\n",
    "# Machine learning modules\n",
    "from sklearn.tree import DecisionTreeClassifier\n",
    "from sklearn.metrics import roc_curve, roc_auc_score, f1_score, confusion_matrix\n",
    "from sklearn.preprocessing import StandardScaler\n",
    "from sklearn.model_selection import train_test_split\n",
    "from sklearn.linear_model import LogisticRegression\n"
   ]
  },
  {
   "cell_type": "code",
   "execution_count": 17,
   "id": "7311364d-ef4e-46e7-84d1-7f8e40db7281",
   "metadata": {},
   "outputs": [
    {
     "name": "stdout",
     "output_type": "stream",
     "text": [
      "No. of rows in the dataset ==>> 284807\n",
      "No. of columns in the dataset ==>> 31\n"
     ]
    }
   ],
   "source": [
    "# Read csv\n",
    "df=pd.read_csv(r'C:\\Users\\saroj\\Downloads\\creditcard\\creditcard.csv')\n",
    "print(f\"No. of rows in the dataset ==>> {df.shape[0]}\")\n",
    "print(f\"No. of columns in the dataset ==>> {df.shape[1]}\")"
   ]
  },
  {
   "cell_type": "code",
   "execution_count": 19,
   "id": "90d2fd04-7b2d-41d4-90af-bf61d5d059fa",
   "metadata": {},
   "outputs": [
    {
     "data": {
      "text/html": [
       "<div>\n",
       "<style scoped>\n",
       "    .dataframe tbody tr th:only-of-type {\n",
       "        vertical-align: middle;\n",
       "    }\n",
       "\n",
       "    .dataframe tbody tr th {\n",
       "        vertical-align: top;\n",
       "    }\n",
       "\n",
       "    .dataframe thead th {\n",
       "        text-align: right;\n",
       "    }\n",
       "</style>\n",
       "<table border=\"1\" class=\"dataframe\">\n",
       "  <thead>\n",
       "    <tr style=\"text-align: right;\">\n",
       "      <th></th>\n",
       "      <th>Time</th>\n",
       "      <th>V1</th>\n",
       "      <th>V2</th>\n",
       "      <th>V3</th>\n",
       "      <th>V4</th>\n",
       "      <th>V5</th>\n",
       "      <th>V6</th>\n",
       "      <th>V7</th>\n",
       "      <th>V8</th>\n",
       "      <th>V9</th>\n",
       "      <th>...</th>\n",
       "      <th>V21</th>\n",
       "      <th>V22</th>\n",
       "      <th>V23</th>\n",
       "      <th>V24</th>\n",
       "      <th>V25</th>\n",
       "      <th>V26</th>\n",
       "      <th>V27</th>\n",
       "      <th>V28</th>\n",
       "      <th>Amount</th>\n",
       "      <th>Class</th>\n",
       "    </tr>\n",
       "  </thead>\n",
       "  <tbody>\n",
       "    <tr>\n",
       "      <th>0</th>\n",
       "      <td>0.0</td>\n",
       "      <td>-1.359807</td>\n",
       "      <td>-0.072781</td>\n",
       "      <td>2.536347</td>\n",
       "      <td>1.378155</td>\n",
       "      <td>-0.338321</td>\n",
       "      <td>0.462388</td>\n",
       "      <td>0.239599</td>\n",
       "      <td>0.098698</td>\n",
       "      <td>0.363787</td>\n",
       "      <td>...</td>\n",
       "      <td>-0.018307</td>\n",
       "      <td>0.277838</td>\n",
       "      <td>-0.110474</td>\n",
       "      <td>0.066928</td>\n",
       "      <td>0.128539</td>\n",
       "      <td>-0.189115</td>\n",
       "      <td>0.133558</td>\n",
       "      <td>-0.021053</td>\n",
       "      <td>149.62</td>\n",
       "      <td>0</td>\n",
       "    </tr>\n",
       "    <tr>\n",
       "      <th>1</th>\n",
       "      <td>0.0</td>\n",
       "      <td>1.191857</td>\n",
       "      <td>0.266151</td>\n",
       "      <td>0.166480</td>\n",
       "      <td>0.448154</td>\n",
       "      <td>0.060018</td>\n",
       "      <td>-0.082361</td>\n",
       "      <td>-0.078803</td>\n",
       "      <td>0.085102</td>\n",
       "      <td>-0.255425</td>\n",
       "      <td>...</td>\n",
       "      <td>-0.225775</td>\n",
       "      <td>-0.638672</td>\n",
       "      <td>0.101288</td>\n",
       "      <td>-0.339846</td>\n",
       "      <td>0.167170</td>\n",
       "      <td>0.125895</td>\n",
       "      <td>-0.008983</td>\n",
       "      <td>0.014724</td>\n",
       "      <td>2.69</td>\n",
       "      <td>0</td>\n",
       "    </tr>\n",
       "    <tr>\n",
       "      <th>2</th>\n",
       "      <td>1.0</td>\n",
       "      <td>-1.358354</td>\n",
       "      <td>-1.340163</td>\n",
       "      <td>1.773209</td>\n",
       "      <td>0.379780</td>\n",
       "      <td>-0.503198</td>\n",
       "      <td>1.800499</td>\n",
       "      <td>0.791461</td>\n",
       "      <td>0.247676</td>\n",
       "      <td>-1.514654</td>\n",
       "      <td>...</td>\n",
       "      <td>0.247998</td>\n",
       "      <td>0.771679</td>\n",
       "      <td>0.909412</td>\n",
       "      <td>-0.689281</td>\n",
       "      <td>-0.327642</td>\n",
       "      <td>-0.139097</td>\n",
       "      <td>-0.055353</td>\n",
       "      <td>-0.059752</td>\n",
       "      <td>378.66</td>\n",
       "      <td>0</td>\n",
       "    </tr>\n",
       "    <tr>\n",
       "      <th>3</th>\n",
       "      <td>1.0</td>\n",
       "      <td>-0.966272</td>\n",
       "      <td>-0.185226</td>\n",
       "      <td>1.792993</td>\n",
       "      <td>-0.863291</td>\n",
       "      <td>-0.010309</td>\n",
       "      <td>1.247203</td>\n",
       "      <td>0.237609</td>\n",
       "      <td>0.377436</td>\n",
       "      <td>-1.387024</td>\n",
       "      <td>...</td>\n",
       "      <td>-0.108300</td>\n",
       "      <td>0.005274</td>\n",
       "      <td>-0.190321</td>\n",
       "      <td>-1.175575</td>\n",
       "      <td>0.647376</td>\n",
       "      <td>-0.221929</td>\n",
       "      <td>0.062723</td>\n",
       "      <td>0.061458</td>\n",
       "      <td>123.50</td>\n",
       "      <td>0</td>\n",
       "    </tr>\n",
       "    <tr>\n",
       "      <th>4</th>\n",
       "      <td>2.0</td>\n",
       "      <td>-1.158233</td>\n",
       "      <td>0.877737</td>\n",
       "      <td>1.548718</td>\n",
       "      <td>0.403034</td>\n",
       "      <td>-0.407193</td>\n",
       "      <td>0.095921</td>\n",
       "      <td>0.592941</td>\n",
       "      <td>-0.270533</td>\n",
       "      <td>0.817739</td>\n",
       "      <td>...</td>\n",
       "      <td>-0.009431</td>\n",
       "      <td>0.798278</td>\n",
       "      <td>-0.137458</td>\n",
       "      <td>0.141267</td>\n",
       "      <td>-0.206010</td>\n",
       "      <td>0.502292</td>\n",
       "      <td>0.219422</td>\n",
       "      <td>0.215153</td>\n",
       "      <td>69.99</td>\n",
       "      <td>0</td>\n",
       "    </tr>\n",
       "  </tbody>\n",
       "</table>\n",
       "<p>5 rows × 31 columns</p>\n",
       "</div>"
      ],
      "text/plain": [
       "   Time        V1        V2        V3        V4        V5        V6        V7  \\\n",
       "0   0.0 -1.359807 -0.072781  2.536347  1.378155 -0.338321  0.462388  0.239599   \n",
       "1   0.0  1.191857  0.266151  0.166480  0.448154  0.060018 -0.082361 -0.078803   \n",
       "2   1.0 -1.358354 -1.340163  1.773209  0.379780 -0.503198  1.800499  0.791461   \n",
       "3   1.0 -0.966272 -0.185226  1.792993 -0.863291 -0.010309  1.247203  0.237609   \n",
       "4   2.0 -1.158233  0.877737  1.548718  0.403034 -0.407193  0.095921  0.592941   \n",
       "\n",
       "         V8        V9  ...       V21       V22       V23       V24       V25  \\\n",
       "0  0.098698  0.363787  ... -0.018307  0.277838 -0.110474  0.066928  0.128539   \n",
       "1  0.085102 -0.255425  ... -0.225775 -0.638672  0.101288 -0.339846  0.167170   \n",
       "2  0.247676 -1.514654  ...  0.247998  0.771679  0.909412 -0.689281 -0.327642   \n",
       "3  0.377436 -1.387024  ... -0.108300  0.005274 -0.190321 -1.175575  0.647376   \n",
       "4 -0.270533  0.817739  ... -0.009431  0.798278 -0.137458  0.141267 -0.206010   \n",
       "\n",
       "        V26       V27       V28  Amount  Class  \n",
       "0 -0.189115  0.133558 -0.021053  149.62      0  \n",
       "1  0.125895 -0.008983  0.014724    2.69      0  \n",
       "2 -0.139097 -0.055353 -0.059752  378.66      0  \n",
       "3 -0.221929  0.062723  0.061458  123.50      0  \n",
       "4  0.502292  0.219422  0.215153   69.99      0  \n",
       "\n",
       "[5 rows x 31 columns]"
      ]
     },
     "execution_count": 19,
     "metadata": {},
     "output_type": "execute_result"
    }
   ],
   "source": [
    "df.head()"
   ]
  },
  {
   "cell_type": "code",
   "execution_count": 81,
   "id": "c698eb18-ca60-438e-9807-0f3727a85d47",
   "metadata": {},
   "outputs": [
    {
     "data": {
      "text/html": [
       "<div>\n",
       "<style scoped>\n",
       "    .dataframe tbody tr th:only-of-type {\n",
       "        vertical-align: middle;\n",
       "    }\n",
       "\n",
       "    .dataframe tbody tr th {\n",
       "        vertical-align: top;\n",
       "    }\n",
       "\n",
       "    .dataframe thead th {\n",
       "        text-align: right;\n",
       "    }\n",
       "</style>\n",
       "<table border=\"1\" class=\"dataframe\">\n",
       "  <thead>\n",
       "    <tr style=\"text-align: right;\">\n",
       "      <th></th>\n",
       "      <th>V1</th>\n",
       "      <th>V2</th>\n",
       "      <th>V3</th>\n",
       "      <th>V4</th>\n",
       "      <th>V5</th>\n",
       "      <th>V6</th>\n",
       "      <th>V7</th>\n",
       "      <th>V8</th>\n",
       "      <th>V9</th>\n",
       "      <th>V10</th>\n",
       "      <th>...</th>\n",
       "      <th>V21</th>\n",
       "      <th>V22</th>\n",
       "      <th>V23</th>\n",
       "      <th>V24</th>\n",
       "      <th>V25</th>\n",
       "      <th>V26</th>\n",
       "      <th>V27</th>\n",
       "      <th>V28</th>\n",
       "      <th>Amount</th>\n",
       "      <th>Class</th>\n",
       "    </tr>\n",
       "  </thead>\n",
       "  <tbody>\n",
       "    <tr>\n",
       "      <th>count</th>\n",
       "      <td>2.848070e+05</td>\n",
       "      <td>2.848070e+05</td>\n",
       "      <td>2.848070e+05</td>\n",
       "      <td>2.848070e+05</td>\n",
       "      <td>2.848070e+05</td>\n",
       "      <td>2.848070e+05</td>\n",
       "      <td>2.848070e+05</td>\n",
       "      <td>2.848070e+05</td>\n",
       "      <td>2.848070e+05</td>\n",
       "      <td>2.848070e+05</td>\n",
       "      <td>...</td>\n",
       "      <td>2.848070e+05</td>\n",
       "      <td>2.848070e+05</td>\n",
       "      <td>2.848070e+05</td>\n",
       "      <td>2.848070e+05</td>\n",
       "      <td>2.848070e+05</td>\n",
       "      <td>2.848070e+05</td>\n",
       "      <td>2.848070e+05</td>\n",
       "      <td>2.848070e+05</td>\n",
       "      <td>284807.000000</td>\n",
       "      <td>284807.000000</td>\n",
       "    </tr>\n",
       "    <tr>\n",
       "      <th>mean</th>\n",
       "      <td>1.168375e-15</td>\n",
       "      <td>3.416908e-16</td>\n",
       "      <td>-1.379537e-15</td>\n",
       "      <td>2.074095e-15</td>\n",
       "      <td>9.604066e-16</td>\n",
       "      <td>1.487313e-15</td>\n",
       "      <td>-5.556467e-16</td>\n",
       "      <td>1.213481e-16</td>\n",
       "      <td>-2.406331e-15</td>\n",
       "      <td>2.239053e-15</td>\n",
       "      <td>...</td>\n",
       "      <td>1.654067e-16</td>\n",
       "      <td>-3.568593e-16</td>\n",
       "      <td>2.578648e-16</td>\n",
       "      <td>4.473266e-15</td>\n",
       "      <td>5.340915e-16</td>\n",
       "      <td>1.683437e-15</td>\n",
       "      <td>-3.660091e-16</td>\n",
       "      <td>-1.227390e-16</td>\n",
       "      <td>88.349619</td>\n",
       "      <td>0.001727</td>\n",
       "    </tr>\n",
       "    <tr>\n",
       "      <th>std</th>\n",
       "      <td>1.958696e+00</td>\n",
       "      <td>1.651309e+00</td>\n",
       "      <td>1.516255e+00</td>\n",
       "      <td>1.415869e+00</td>\n",
       "      <td>1.380247e+00</td>\n",
       "      <td>1.332271e+00</td>\n",
       "      <td>1.237094e+00</td>\n",
       "      <td>1.194353e+00</td>\n",
       "      <td>1.098632e+00</td>\n",
       "      <td>1.088850e+00</td>\n",
       "      <td>...</td>\n",
       "      <td>7.345240e-01</td>\n",
       "      <td>7.257016e-01</td>\n",
       "      <td>6.244603e-01</td>\n",
       "      <td>6.056471e-01</td>\n",
       "      <td>5.212781e-01</td>\n",
       "      <td>4.822270e-01</td>\n",
       "      <td>4.036325e-01</td>\n",
       "      <td>3.300833e-01</td>\n",
       "      <td>250.120109</td>\n",
       "      <td>0.041527</td>\n",
       "    </tr>\n",
       "    <tr>\n",
       "      <th>min</th>\n",
       "      <td>-5.640751e+01</td>\n",
       "      <td>-7.271573e+01</td>\n",
       "      <td>-4.832559e+01</td>\n",
       "      <td>-5.683171e+00</td>\n",
       "      <td>-1.137433e+02</td>\n",
       "      <td>-2.616051e+01</td>\n",
       "      <td>-4.355724e+01</td>\n",
       "      <td>-7.321672e+01</td>\n",
       "      <td>-1.343407e+01</td>\n",
       "      <td>-2.458826e+01</td>\n",
       "      <td>...</td>\n",
       "      <td>-3.483038e+01</td>\n",
       "      <td>-1.093314e+01</td>\n",
       "      <td>-4.480774e+01</td>\n",
       "      <td>-2.836627e+00</td>\n",
       "      <td>-1.029540e+01</td>\n",
       "      <td>-2.604551e+00</td>\n",
       "      <td>-2.256568e+01</td>\n",
       "      <td>-1.543008e+01</td>\n",
       "      <td>0.000000</td>\n",
       "      <td>0.000000</td>\n",
       "    </tr>\n",
       "    <tr>\n",
       "      <th>25%</th>\n",
       "      <td>-9.203734e-01</td>\n",
       "      <td>-5.985499e-01</td>\n",
       "      <td>-8.903648e-01</td>\n",
       "      <td>-8.486401e-01</td>\n",
       "      <td>-6.915971e-01</td>\n",
       "      <td>-7.682956e-01</td>\n",
       "      <td>-5.540759e-01</td>\n",
       "      <td>-2.086297e-01</td>\n",
       "      <td>-6.430976e-01</td>\n",
       "      <td>-5.354257e-01</td>\n",
       "      <td>...</td>\n",
       "      <td>-2.283949e-01</td>\n",
       "      <td>-5.423504e-01</td>\n",
       "      <td>-1.618463e-01</td>\n",
       "      <td>-3.545861e-01</td>\n",
       "      <td>-3.171451e-01</td>\n",
       "      <td>-3.269839e-01</td>\n",
       "      <td>-7.083953e-02</td>\n",
       "      <td>-5.295979e-02</td>\n",
       "      <td>5.600000</td>\n",
       "      <td>0.000000</td>\n",
       "    </tr>\n",
       "    <tr>\n",
       "      <th>50%</th>\n",
       "      <td>1.810880e-02</td>\n",
       "      <td>6.548556e-02</td>\n",
       "      <td>1.798463e-01</td>\n",
       "      <td>-1.984653e-02</td>\n",
       "      <td>-5.433583e-02</td>\n",
       "      <td>-2.741871e-01</td>\n",
       "      <td>4.010308e-02</td>\n",
       "      <td>2.235804e-02</td>\n",
       "      <td>-5.142873e-02</td>\n",
       "      <td>-9.291738e-02</td>\n",
       "      <td>...</td>\n",
       "      <td>-2.945017e-02</td>\n",
       "      <td>6.781943e-03</td>\n",
       "      <td>-1.119293e-02</td>\n",
       "      <td>4.097606e-02</td>\n",
       "      <td>1.659350e-02</td>\n",
       "      <td>-5.213911e-02</td>\n",
       "      <td>1.342146e-03</td>\n",
       "      <td>1.124383e-02</td>\n",
       "      <td>22.000000</td>\n",
       "      <td>0.000000</td>\n",
       "    </tr>\n",
       "    <tr>\n",
       "      <th>75%</th>\n",
       "      <td>1.315642e+00</td>\n",
       "      <td>8.037239e-01</td>\n",
       "      <td>1.027196e+00</td>\n",
       "      <td>7.433413e-01</td>\n",
       "      <td>6.119264e-01</td>\n",
       "      <td>3.985649e-01</td>\n",
       "      <td>5.704361e-01</td>\n",
       "      <td>3.273459e-01</td>\n",
       "      <td>5.971390e-01</td>\n",
       "      <td>4.539234e-01</td>\n",
       "      <td>...</td>\n",
       "      <td>1.863772e-01</td>\n",
       "      <td>5.285536e-01</td>\n",
       "      <td>1.476421e-01</td>\n",
       "      <td>4.395266e-01</td>\n",
       "      <td>3.507156e-01</td>\n",
       "      <td>2.409522e-01</td>\n",
       "      <td>9.104512e-02</td>\n",
       "      <td>7.827995e-02</td>\n",
       "      <td>77.165000</td>\n",
       "      <td>0.000000</td>\n",
       "    </tr>\n",
       "    <tr>\n",
       "      <th>max</th>\n",
       "      <td>2.454930e+00</td>\n",
       "      <td>2.205773e+01</td>\n",
       "      <td>9.382558e+00</td>\n",
       "      <td>1.687534e+01</td>\n",
       "      <td>3.480167e+01</td>\n",
       "      <td>7.330163e+01</td>\n",
       "      <td>1.205895e+02</td>\n",
       "      <td>2.000721e+01</td>\n",
       "      <td>1.559499e+01</td>\n",
       "      <td>2.374514e+01</td>\n",
       "      <td>...</td>\n",
       "      <td>2.720284e+01</td>\n",
       "      <td>1.050309e+01</td>\n",
       "      <td>2.252841e+01</td>\n",
       "      <td>4.584549e+00</td>\n",
       "      <td>7.519589e+00</td>\n",
       "      <td>3.517346e+00</td>\n",
       "      <td>3.161220e+01</td>\n",
       "      <td>3.384781e+01</td>\n",
       "      <td>25691.160000</td>\n",
       "      <td>1.000000</td>\n",
       "    </tr>\n",
       "  </tbody>\n",
       "</table>\n",
       "<p>8 rows × 30 columns</p>\n",
       "</div>"
      ],
      "text/plain": [
       "                 V1            V2            V3            V4            V5  \\\n",
       "count  2.848070e+05  2.848070e+05  2.848070e+05  2.848070e+05  2.848070e+05   \n",
       "mean   1.168375e-15  3.416908e-16 -1.379537e-15  2.074095e-15  9.604066e-16   \n",
       "std    1.958696e+00  1.651309e+00  1.516255e+00  1.415869e+00  1.380247e+00   \n",
       "min   -5.640751e+01 -7.271573e+01 -4.832559e+01 -5.683171e+00 -1.137433e+02   \n",
       "25%   -9.203734e-01 -5.985499e-01 -8.903648e-01 -8.486401e-01 -6.915971e-01   \n",
       "50%    1.810880e-02  6.548556e-02  1.798463e-01 -1.984653e-02 -5.433583e-02   \n",
       "75%    1.315642e+00  8.037239e-01  1.027196e+00  7.433413e-01  6.119264e-01   \n",
       "max    2.454930e+00  2.205773e+01  9.382558e+00  1.687534e+01  3.480167e+01   \n",
       "\n",
       "                 V6            V7            V8            V9           V10  \\\n",
       "count  2.848070e+05  2.848070e+05  2.848070e+05  2.848070e+05  2.848070e+05   \n",
       "mean   1.487313e-15 -5.556467e-16  1.213481e-16 -2.406331e-15  2.239053e-15   \n",
       "std    1.332271e+00  1.237094e+00  1.194353e+00  1.098632e+00  1.088850e+00   \n",
       "min   -2.616051e+01 -4.355724e+01 -7.321672e+01 -1.343407e+01 -2.458826e+01   \n",
       "25%   -7.682956e-01 -5.540759e-01 -2.086297e-01 -6.430976e-01 -5.354257e-01   \n",
       "50%   -2.741871e-01  4.010308e-02  2.235804e-02 -5.142873e-02 -9.291738e-02   \n",
       "75%    3.985649e-01  5.704361e-01  3.273459e-01  5.971390e-01  4.539234e-01   \n",
       "max    7.330163e+01  1.205895e+02  2.000721e+01  1.559499e+01  2.374514e+01   \n",
       "\n",
       "       ...           V21           V22           V23           V24  \\\n",
       "count  ...  2.848070e+05  2.848070e+05  2.848070e+05  2.848070e+05   \n",
       "mean   ...  1.654067e-16 -3.568593e-16  2.578648e-16  4.473266e-15   \n",
       "std    ...  7.345240e-01  7.257016e-01  6.244603e-01  6.056471e-01   \n",
       "min    ... -3.483038e+01 -1.093314e+01 -4.480774e+01 -2.836627e+00   \n",
       "25%    ... -2.283949e-01 -5.423504e-01 -1.618463e-01 -3.545861e-01   \n",
       "50%    ... -2.945017e-02  6.781943e-03 -1.119293e-02  4.097606e-02   \n",
       "75%    ...  1.863772e-01  5.285536e-01  1.476421e-01  4.395266e-01   \n",
       "max    ...  2.720284e+01  1.050309e+01  2.252841e+01  4.584549e+00   \n",
       "\n",
       "                V25           V26           V27           V28         Amount  \\\n",
       "count  2.848070e+05  2.848070e+05  2.848070e+05  2.848070e+05  284807.000000   \n",
       "mean   5.340915e-16  1.683437e-15 -3.660091e-16 -1.227390e-16      88.349619   \n",
       "std    5.212781e-01  4.822270e-01  4.036325e-01  3.300833e-01     250.120109   \n",
       "min   -1.029540e+01 -2.604551e+00 -2.256568e+01 -1.543008e+01       0.000000   \n",
       "25%   -3.171451e-01 -3.269839e-01 -7.083953e-02 -5.295979e-02       5.600000   \n",
       "50%    1.659350e-02 -5.213911e-02  1.342146e-03  1.124383e-02      22.000000   \n",
       "75%    3.507156e-01  2.409522e-01  9.104512e-02  7.827995e-02      77.165000   \n",
       "max    7.519589e+00  3.517346e+00  3.161220e+01  3.384781e+01   25691.160000   \n",
       "\n",
       "               Class  \n",
       "count  284807.000000  \n",
       "mean        0.001727  \n",
       "std         0.041527  \n",
       "min         0.000000  \n",
       "25%         0.000000  \n",
       "50%         0.000000  \n",
       "75%         0.000000  \n",
       "max         1.000000  \n",
       "\n",
       "[8 rows x 30 columns]"
      ]
     },
     "execution_count": 81,
     "metadata": {},
     "output_type": "execute_result"
    }
   ],
   "source": [
    "df.describe()"
   ]
  },
  {
   "cell_type": "code",
   "execution_count": 21,
   "id": "a01ec36e-11ca-48b3-a08f-ecef3f9d0398",
   "metadata": {},
   "outputs": [
    {
     "name": "stdout",
     "output_type": "stream",
     "text": [
      "the name of the columns in the dataset are : \n"
     ]
    },
    {
     "data": {
      "text/plain": [
       "Index(['Time', 'V1', 'V2', 'V3', 'V4', 'V5', 'V6', 'V7', 'V8', 'V9', 'V10',\n",
       "       'V11', 'V12', 'V13', 'V14', 'V15', 'V16', 'V17', 'V18', 'V19', 'V20',\n",
       "       'V21', 'V22', 'V23', 'V24', 'V25', 'V26', 'V27', 'V28', 'Amount',\n",
       "       'Class'],\n",
       "      dtype='object')"
      ]
     },
     "execution_count": 21,
     "metadata": {},
     "output_type": "execute_result"
    }
   ],
   "source": [
    "print(\"the name of the columns in the dataset are : \")\n",
    "df.columns"
   ]
  },
  {
   "cell_type": "code",
   "execution_count": 23,
   "id": "09221944-0742-4275-a18d-a02a8b9e0b15",
   "metadata": {},
   "outputs": [
    {
     "data": {
      "text/plain": [
       "V1        float64\n",
       "V2        float64\n",
       "V3        float64\n",
       "V4        float64\n",
       "V5        float64\n",
       "V6        float64\n",
       "V7        float64\n",
       "V8        float64\n",
       "V9        float64\n",
       "V10       float64\n",
       "V11       float64\n",
       "V12       float64\n",
       "V13       float64\n",
       "V14       float64\n",
       "V15       float64\n",
       "V16       float64\n",
       "V17       float64\n",
       "V18       float64\n",
       "V19       float64\n",
       "V20       float64\n",
       "V21       float64\n",
       "V22       float64\n",
       "V23       float64\n",
       "V24       float64\n",
       "V25       float64\n",
       "V26       float64\n",
       "V27       float64\n",
       "V28       float64\n",
       "Amount    float64\n",
       "Class       int64\n",
       "dtype: object"
      ]
     },
     "execution_count": 23,
     "metadata": {},
     "output_type": "execute_result"
    }
   ],
   "source": [
    "# dropping time column\n",
    "df.drop([\"Time\"],axis=1,inplace=True)\n",
    "df.dtypes"
   ]
  },
  {
   "cell_type": "code",
   "execution_count": 25,
   "id": "9af80f3c-d540-4fd2-b9e4-a6ad8273226a",
   "metadata": {},
   "outputs": [
    {
     "data": {
      "text/plain": [
       "V1        0\n",
       "V2        0\n",
       "V3        0\n",
       "V4        0\n",
       "V5        0\n",
       "V6        0\n",
       "V7        0\n",
       "V8        0\n",
       "V9        0\n",
       "V10       0\n",
       "V11       0\n",
       "V12       0\n",
       "V13       0\n",
       "V14       0\n",
       "V15       0\n",
       "V16       0\n",
       "V17       0\n",
       "V18       0\n",
       "V19       0\n",
       "V20       0\n",
       "V21       0\n",
       "V22       0\n",
       "V23       0\n",
       "V24       0\n",
       "V25       0\n",
       "V26       0\n",
       "V27       0\n",
       "V28       0\n",
       "Amount    0\n",
       "Class     0\n",
       "dtype: int64"
      ]
     },
     "execution_count": 25,
     "metadata": {},
     "output_type": "execute_result"
    }
   ],
   "source": [
    "df.isna().sum()"
   ]
  },
  {
   "cell_type": "code",
   "execution_count": 27,
   "id": "4b4a0d17-6a19-4496-9ff6-6ad4aabf0810",
   "metadata": {},
   "outputs": [
    {
     "data": {
      "text/plain": [
       "(142650, 30)"
      ]
     },
     "execution_count": 27,
     "metadata": {},
     "output_type": "execute_result"
    }
   ],
   "source": [
    "df_fraud=df[df.Class==1]\n",
    "df_true=df[df.Class==0]\n",
    "df_true=df_true.sample(frac=0.5)\n",
    "data=pd.concat([df_true,df_fraud])\n",
    "data = data.reset_index(drop=True)\n",
    "data.shape"
   ]
  },
  {
   "cell_type": "code",
   "execution_count": 29,
   "id": "6f1c3831-efe7-469b-8f5c-7b79a5720a92",
   "metadata": {},
   "outputs": [
    {
     "data": {
      "text/plain": [
       "count    142650.000000\n",
       "mean         87.876973\n",
       "std         250.060296\n",
       "min           0.000000\n",
       "25%           5.490000\n",
       "50%          21.950000\n",
       "75%          76.760000\n",
       "max       19656.530000\n",
       "Name: Amount, dtype: float64"
      ]
     },
     "execution_count": 29,
     "metadata": {},
     "output_type": "execute_result"
    }
   ],
   "source": [
    "data['Amount'].describe()"
   ]
  },
  {
   "cell_type": "code",
   "execution_count": 31,
   "id": "ebd7a9b0-f3fd-4939-87e9-9c69a9b6adc8",
   "metadata": {},
   "outputs": [
    {
     "data": {
      "image/png": "[encoded data removed]",
      "text/plain": [
       "<Figure size 800x500 with 1 Axes>"
      ]
     },
     "metadata": {},
     "output_type": "display_data"
    }
   ],
   "source": [
    "with plt.style.context(('ggplot')):\n",
    "    plt.figure(figsize=(8,5))\n",
    "    plt.title(\"Distibution of Class\")\n",
    "    plt.plot(data[\"Amount\"])\n",
    "    plt.show()"
   ]
  },
  {
   "cell_type": "code",
   "execution_count": 33,
   "id": "4e0f36a7-307f-4c47-bdeb-5a18debb6fd4",
   "metadata": {},
   "outputs": [
    {
     "data": {
      "image/png": "[encoded data removed]",
      "text/plain": [
       "<Figure size 800x500 with 1 Axes>"
      ]
     },
     "metadata": {},
     "output_type": "display_data"
    }
   ],
   "source": [
    "with plt.style.context(('ggplot')):\n",
    "    plt.figure(figsize=(8,5))\n",
    "    plt.title(\"Distibution of Class\")\n",
    "    sns.countplot(data=data,x=data[\"Class\"])\n",
    "    plt.show()"
   ]
  },
  {
   "cell_type": "code",
   "execution_count": 35,
   "id": "934055c5-39f7-43e2-9f8e-de5f0c0f900d",
   "metadata": {},
   "outputs": [
    {
     "name": "stdout",
     "output_type": "stream",
     "text": [
      "The percentage of fraud transactions is 0.17 %\n"
     ]
    }
   ],
   "source": [
    "fraud_per=round((len(df[df.Class==1])/len(df[df.Class==0]))*100,2)\n",
    "print(f\"The percentage of fraud transactions is {fraud_per} %\")"
   ]
  },
  {
   "cell_type": "code",
   "execution_count": 37,
   "id": "0e6f229c-9d7a-440d-8533-403f7d6e1b70",
   "metadata": {},
   "outputs": [
    {
     "data": {
      "text/plain": [
       "0        -0.307515\n",
       "1        -0.005667\n",
       "2        -0.325670\n",
       "3        -0.260966\n",
       "4        -0.091526\n",
       "            ...   \n",
       "142645    1.208205\n",
       "142646   -0.348385\n",
       "142647   -0.039938\n",
       "142648    0.628343\n",
       "142649   -0.181345\n",
       "Name: Amount, Length: 142650, dtype: float64"
      ]
     },
     "execution_count": 37,
     "metadata": {},
     "output_type": "execute_result"
    }
   ],
   "source": [
    "# scaling the Amount column with standard scaling process\n",
    "sc=StandardScaler()\n",
    "data.Amount=sc.fit_transform(data.Amount.values.reshape(-1,1))\n",
    "data.Amount"
   ]
  },
  {
   "cell_type": "code",
   "execution_count": 39,
   "id": "505e7157-2322-4112-ab14-ca02913a02ce",
   "metadata": {},
   "outputs": [
    {
     "data": {
      "text/plain": [
       "(139605, 30)"
      ]
     },
     "execution_count": 39,
     "metadata": {},
     "output_type": "execute_result"
    }
   ],
   "source": [
    "# drop duplicate data\n",
    "data.drop_duplicates(inplace=True)\n",
    "data.shape"
   ]
  },
  {
   "cell_type": "code",
   "execution_count": 41,
   "id": "20db067d-4384-416d-9aaa-6471a3e3b4e1",
   "metadata": {},
   "outputs": [],
   "source": [
    "# Train Test split\n",
    "x=data.drop([\"Class\"],axis=1)\n",
    "y=data[\"Class\"]\n",
    "x_train,x_test,y_train,y_test=train_test_split(x,y,train_size=0.8)"
   ]
  },
  {
   "cell_type": "markdown",
   "id": "e1dff755-c3f7-4a28-8b54-ce6f9e08068c",
   "metadata": {},
   "source": [
    "## Logistic Regression"
   ]
  },
  {
   "cell_type": "code",
   "execution_count": 91,
   "id": "47b4de48-2bda-4040-994f-936f8d79a29e",
   "metadata": {},
   "outputs": [
    {
     "name": "stdout",
     "output_type": "stream",
     "text": [
      "The accuracy of the model is 99.87%\n"
     ]
    }
   ],
   "source": [
    "model_log=LogisticRegression()\n",
    "model_log.fit(x_train,y_train)\n",
    "y_pred_log=model_log.predict(x_test)\n",
    "print(f\"The accuracy of the model is {round(model_log.score(x_test,y_test)*100,2)}%\")"
   ]
  },
  {
   "cell_type": "code",
   "execution_count": 50,
   "id": "96d27ae9-7c4d-47a3-a326-81c79469af53",
   "metadata": {},
   "outputs": [
    {
     "name": "stdout",
     "output_type": "stream",
     "text": [
      "F1-Score of the model is 0.8\n"
     ]
    }
   ],
   "source": [
    "print(f\"F1-Score of the model is {round(f1_score(y_test,y_pred_log),2)}\")"
   ]
  },
  {
   "cell_type": "markdown",
   "id": "8602dba7-4898-4e87-bc4e-a05491c46143",
   "metadata": {},
   "source": [
    "## Random Forest Classifier"
   ]
  },
  {
   "cell_type": "code",
   "execution_count": 61,
   "id": "6a644c5c-f385-4c6e-8e15-0e0e85af6996",
   "metadata": {},
   "outputs": [],
   "source": [
    "from sklearn.ensemble import RandomForestClassifier\n"
   ]
  },
  {
   "cell_type": "code",
   "execution_count": 63,
   "id": "92f7e0c3-fb39-438a-8a68-1280f39e78d4",
   "metadata": {
    "scrolled": true
   },
   "outputs": [],
   "source": [
    "model=RandomForestClassifier()\n",
    "model.fit(x_train,y_train)\n",
    "y_pred_random=model.predict(x_test)"
   ]
  },
  {
   "cell_type": "code",
   "execution_count": 93,
   "id": "d458285e-4f2a-4c8c-b485-2ec962e386b8",
   "metadata": {},
   "outputs": [
    {
     "name": "stdout",
     "output_type": "stream",
     "text": [
      "The accuracy of the model is 99.91%\n"
     ]
    }
   ],
   "source": [
    "print(f\"The accuracy of the model is {round(model.score(x_test,y_test)*100,2)}%\")"
   ]
  },
  {
   "cell_type": "code",
   "execution_count": 73,
   "id": "dc1bcb72-f39f-4530-b22c-8a234e3c9a13",
   "metadata": {},
   "outputs": [
    {
     "name": "stdout",
     "output_type": "stream",
     "text": [
      "F1-Score of the model is 0.85\n"
     ]
    }
   ],
   "source": [
    "print(f\"F1-Score of the model is {round(f1_score(y_test,y_pred_random),2)}\")"
   ]
  },
  {
   "cell_type": "markdown",
   "id": "808f138f-99e4-41c8-a8aa-a48fbc97cdc0",
   "metadata": {},
   "source": [
    "## Applying Xgboost Model"
   ]
  },
  {
   "cell_type": "code",
   "execution_count": 99,
   "id": "620f9a23-2967-4231-88ec-497111cf61df",
   "metadata": {},
   "outputs": [
    {
     "name": "stdout",
     "output_type": "stream",
     "text": [
      "Collecting xgboost\n",
      "  Downloading xgboost-2.1.0-py3-none-win_amd64.whl.metadata (2.1 kB)\n",
      "Requirement already satisfied: numpy in c:\\users\\saroj\\anaconda3\\lib\\site-packages (from xgboost) (1.26.4)\n",
      "Requirement already satisfied: scipy in c:\\users\\saroj\\anaconda3\\lib\\site-packages (from xgboost) (1.13.1)\n",
      "Downloading xgboost-2.1.0-py3-none-win_amd64.whl (124.9 MB)\n",
      "   ---------------------------------------- 0.0/124.9 MB ? eta -:--:--\n",
      "   ---------------------------------------- 0.0/124.9 MB 330.3 kB/s eta 0:06:19\n",
      "   ---------------------------------------- 0.0/124.9 MB 326.8 kB/s eta 0:06:23\n",
      "   ---------------------------------------- 0.1/124.9 MB 655.4 kB/s eta 0:03:11\n",
      "   ---------------------------------------- 0.3/124.9 MB 1.7 MB/s eta 0:01:13\n",
      "   ---------------------------------------- 0.8/124.9 MB 3.4 MB/s eta 0:00:37\n",
      "   ---------------------------------------- 1.4/124.9 MB 5.0 MB/s eta 0:00:25\n",
      "    --------------------------------------- 2.0/124.9 MB 6.1 MB/s eta 0:00:21\n",
      "    --------------------------------------- 2.6/124.9 MB 6.8 MB/s eta 0:00:18\n",
      "    --------------------------------------- 3.0/124.9 MB 7.0 MB/s eta 0:00:18\n",
      "   - -------------------------------------- 3.5/124.9 MB 7.4 MB/s eta 0:00:17\n",
      "   - -------------------------------------- 3.9/124.9 MB 7.8 MB/s eta 0:00:16\n",
      "   - -------------------------------------- 4.3/124.9 MB 7.9 MB/s eta 0:00:16\n",
      "   - -------------------------------------- 4.8/124.9 MB 7.8 MB/s eta 0:00:16\n",
      "   - -------------------------------------- 5.3/124.9 MB 8.0 MB/s eta 0:00:15\n",
      "   - -------------------------------------- 5.8/124.9 MB 8.2 MB/s eta 0:00:15\n",
      "   - -------------------------------------- 6.2/124.9 MB 8.5 MB/s eta 0:00:15\n",
      "   -- ------------------------------------- 6.8/124.9 MB 8.6 MB/s eta 0:00:14\n",
      "   -- ------------------------------------- 7.2/124.9 MB 8.7 MB/s eta 0:00:14\n",
      "   -- ------------------------------------- 7.7/124.9 MB 8.8 MB/s eta 0:00:14\n",
      "   -- ------------------------------------- 8.1/124.9 MB 8.7 MB/s eta 0:00:14\n",
      "   -- ------------------------------------- 8.6/124.9 MB 8.7 MB/s eta 0:00:14\n",
      "   -- ------------------------------------- 9.1/124.9 MB 8.8 MB/s eta 0:00:14\n",
      "   --- ------------------------------------ 9.6/124.9 MB 9.0 MB/s eta 0:00:13\n",
      "   --- ------------------------------------ 10.1/124.9 MB 9.1 MB/s eta 0:00:13\n",
      "   --- ------------------------------------ 10.6/124.9 MB 10.6 MB/s eta 0:00:11\n",
      "   --- ------------------------------------ 11.0/124.9 MB 10.4 MB/s eta 0:00:11\n",
      "   --- ------------------------------------ 11.7/124.9 MB 10.4 MB/s eta 0:00:11\n",
      "   --- ------------------------------------ 12.2/124.9 MB 10.1 MB/s eta 0:00:12\n",
      "   ---- ----------------------------------- 12.7/124.9 MB 10.2 MB/s eta 0:00:11\n",
      "   ---- ----------------------------------- 13.2/124.9 MB 10.1 MB/s eta 0:00:12\n",
      "   ---- ----------------------------------- 13.7/124.9 MB 10.1 MB/s eta 0:00:12\n",
      "   ---- ----------------------------------- 14.1/124.9 MB 10.4 MB/s eta 0:00:11\n",
      "   ---- ----------------------------------- 14.6/124.9 MB 10.4 MB/s eta 0:00:11\n",
      "   ---- ----------------------------------- 15.1/124.9 MB 10.4 MB/s eta 0:00:11\n",
      "   ---- ----------------------------------- 15.6/124.9 MB 10.4 MB/s eta 0:00:11\n",
      "   ----- ---------------------------------- 16.0/124.9 MB 10.4 MB/s eta 0:00:11\n",
      "   ----- ---------------------------------- 16.5/124.9 MB 10.4 MB/s eta 0:00:11\n",
      "   ----- ---------------------------------- 16.7/124.9 MB 10.2 MB/s eta 0:00:11\n",
      "   ----- ---------------------------------- 16.7/124.9 MB 9.6 MB/s eta 0:00:12\n",
      "   ----- ---------------------------------- 17.9/124.9 MB 10.2 MB/s eta 0:00:11\n",
      "   ----- ---------------------------------- 18.4/124.9 MB 10.2 MB/s eta 0:00:11\n",
      "   ------ --------------------------------- 18.9/124.9 MB 10.4 MB/s eta 0:00:11\n",
      "   ------ --------------------------------- 19.4/124.9 MB 10.4 MB/s eta 0:00:11\n",
      "   ------ --------------------------------- 19.9/124.9 MB 10.4 MB/s eta 0:00:11\n",
      "   ------ --------------------------------- 20.4/124.9 MB 10.6 MB/s eta 0:00:10\n",
      "   ------ --------------------------------- 21.0/124.9 MB 10.6 MB/s eta 0:00:10\n",
      "   ------ --------------------------------- 21.5/124.9 MB 10.6 MB/s eta 0:00:10\n",
      "   ------- -------------------------------- 22.0/124.9 MB 10.4 MB/s eta 0:00:10\n",
      "   ------- -------------------------------- 22.5/124.9 MB 10.6 MB/s eta 0:00:10\n",
      "   ------- -------------------------------- 22.9/124.9 MB 10.6 MB/s eta 0:00:10\n",
      "   ------- -------------------------------- 23.5/124.9 MB 10.6 MB/s eta 0:00:10\n",
      "   ------- -------------------------------- 24.0/124.9 MB 10.6 MB/s eta 0:00:10\n",
      "   ------- -------------------------------- 24.6/124.9 MB 10.7 MB/s eta 0:00:10\n",
      "   -------- ------------------------------- 25.2/124.9 MB 10.9 MB/s eta 0:00:10\n",
      "   -------- ------------------------------- 25.8/124.9 MB 10.9 MB/s eta 0:00:10\n",
      "   -------- ------------------------------- 26.2/124.9 MB 11.1 MB/s eta 0:00:09\n",
      "   -------- ------------------------------- 26.8/124.9 MB 11.1 MB/s eta 0:00:09\n",
      "   -------- ------------------------------- 27.3/124.9 MB 11.9 MB/s eta 0:00:09\n",
      "   -------- ------------------------------- 27.4/124.9 MB 11.9 MB/s eta 0:00:09\n",
      "   -------- ------------------------------- 27.9/124.9 MB 10.9 MB/s eta 0:00:09\n",
      "   --------- ------------------------------ 28.9/124.9 MB 11.3 MB/s eta 0:00:09\n",
      "   --------- ------------------------------ 29.6/124.9 MB 11.5 MB/s eta 0:00:09\n",
      "   --------- ------------------------------ 30.1/124.9 MB 11.7 MB/s eta 0:00:09\n",
      "   --------- ------------------------------ 30.7/124.9 MB 11.7 MB/s eta 0:00:09\n",
      "   ---------- ----------------------------- 31.2/124.9 MB 11.7 MB/s eta 0:00:09\n",
      "   ---------- ----------------------------- 31.7/124.9 MB 11.5 MB/s eta 0:00:09\n",
      "   ---------- ----------------------------- 32.3/124.9 MB 11.7 MB/s eta 0:00:08\n",
      "   ---------- ----------------------------- 32.8/124.9 MB 11.7 MB/s eta 0:00:08\n",
      "   ---------- ----------------------------- 33.5/124.9 MB 11.9 MB/s eta 0:00:08\n",
      "   ---------- ----------------------------- 33.9/124.9 MB 11.9 MB/s eta 0:00:08\n",
      "   ----------- ---------------------------- 34.5/124.9 MB 11.9 MB/s eta 0:00:08\n",
      "   ----------- ---------------------------- 35.1/124.9 MB 11.9 MB/s eta 0:00:08\n",
      "   ----------- ---------------------------- 35.7/124.9 MB 11.7 MB/s eta 0:00:08\n",
      "   ----------- ---------------------------- 36.2/124.9 MB 11.7 MB/s eta 0:00:08\n",
      "   ----------- ---------------------------- 36.9/124.9 MB 11.9 MB/s eta 0:00:08\n",
      "   ----------- ---------------------------- 37.4/124.9 MB 12.1 MB/s eta 0:00:08\n",
      "   ------------ --------------------------- 38.0/124.9 MB 12.6 MB/s eta 0:00:07\n",
      "   ------------ --------------------------- 38.5/124.9 MB 12.4 MB/s eta 0:00:07\n",
      "   ------------ --------------------------- 39.0/124.9 MB 11.9 MB/s eta 0:00:08\n",
      "   ------------ --------------------------- 39.5/124.9 MB 11.9 MB/s eta 0:00:08\n",
      "   ------------ --------------------------- 39.8/124.9 MB 11.7 MB/s eta 0:00:08\n",
      "   ------------ --------------------------- 40.5/124.9 MB 11.7 MB/s eta 0:00:08\n",
      "   ------------- -------------------------- 41.1/124.9 MB 11.7 MB/s eta 0:00:08\n",
      "   ------------- -------------------------- 41.5/124.9 MB 11.5 MB/s eta 0:00:08\n",
      "   ------------- -------------------------- 42.0/124.9 MB 11.3 MB/s eta 0:00:08\n",
      "   ------------- -------------------------- 42.5/124.9 MB 11.5 MB/s eta 0:00:08\n",
      "   ------------- -------------------------- 43.0/124.9 MB 11.5 MB/s eta 0:00:08\n",
      "   ------------- -------------------------- 43.5/124.9 MB 11.3 MB/s eta 0:00:08\n",
      "   -------------- ------------------------- 44.1/124.9 MB 11.3 MB/s eta 0:00:08\n",
      "   -------------- ------------------------- 44.7/124.9 MB 11.3 MB/s eta 0:00:08\n",
      "   -------------- ------------------------- 45.2/124.9 MB 11.3 MB/s eta 0:00:08\n",
      "   -------------- ------------------------- 45.7/124.9 MB 11.3 MB/s eta 0:00:08\n",
      "   -------------- ------------------------- 46.2/124.9 MB 11.3 MB/s eta 0:00:07\n",
      "   -------------- ------------------------- 46.8/124.9 MB 11.3 MB/s eta 0:00:07\n",
      "   --------------- ------------------------ 47.4/124.9 MB 11.1 MB/s eta 0:00:07\n",
      "   --------------- ------------------------ 47.9/124.9 MB 11.1 MB/s eta 0:00:07\n",
      "   --------------- ------------------------ 48.4/124.9 MB 11.1 MB/s eta 0:00:07\n",
      "   --------------- ------------------------ 48.9/124.9 MB 11.1 MB/s eta 0:00:07\n",
      "   --------------- ------------------------ 49.6/124.9 MB 11.1 MB/s eta 0:00:07\n",
      "   ---------------- ----------------------- 50.1/124.9 MB 11.5 MB/s eta 0:00:07\n",
      "   ---------------- ----------------------- 50.6/124.9 MB 11.5 MB/s eta 0:00:07\n",
      "   ---------------- ----------------------- 51.2/124.9 MB 11.5 MB/s eta 0:00:07\n",
      "   ---------------- ----------------------- 51.7/124.9 MB 11.5 MB/s eta 0:00:07\n",
      "   ---------------- ----------------------- 52.3/124.9 MB 11.7 MB/s eta 0:00:07\n",
      "   ---------------- ----------------------- 52.8/124.9 MB 11.7 MB/s eta 0:00:07\n",
      "   ----------------- ---------------------- 53.4/124.9 MB 11.7 MB/s eta 0:00:07\n",
      "   ----------------- ---------------------- 53.8/124.9 MB 11.7 MB/s eta 0:00:07\n",
      "   ----------------- ---------------------- 54.5/124.9 MB 11.7 MB/s eta 0:00:07\n",
      "   ----------------- ---------------------- 55.1/124.9 MB 11.7 MB/s eta 0:00:06\n",
      "   ----------------- ---------------------- 55.7/124.9 MB 11.9 MB/s eta 0:00:06\n",
      "   ------------------ --------------------- 56.2/124.9 MB 11.9 MB/s eta 0:00:06\n",
      "   ------------------ --------------------- 56.8/124.9 MB 11.9 MB/s eta 0:00:06\n",
      "   ------------------ --------------------- 57.4/124.9 MB 11.9 MB/s eta 0:00:06\n",
      "   ------------------ --------------------- 57.9/124.9 MB 11.9 MB/s eta 0:00:06\n",
      "   ------------------ --------------------- 58.5/124.9 MB 11.9 MB/s eta 0:00:06\n",
      "   ------------------ --------------------- 58.9/124.9 MB 11.9 MB/s eta 0:00:06\n",
      "   ------------------- -------------------- 59.5/124.9 MB 11.9 MB/s eta 0:00:06\n",
      "   ------------------- -------------------- 60.1/124.9 MB 12.1 MB/s eta 0:00:06\n",
      "   ------------------- -------------------- 60.7/124.9 MB 12.1 MB/s eta 0:00:06\n",
      "   ------------------- -------------------- 61.3/124.9 MB 12.4 MB/s eta 0:00:06\n",
      "   ------------------- -------------------- 61.9/124.9 MB 12.1 MB/s eta 0:00:06\n",
      "   -------------------- ------------------- 62.5/124.9 MB 12.4 MB/s eta 0:00:06\n",
      "   -------------------- ------------------- 63.1/124.9 MB 12.1 MB/s eta 0:00:06\n",
      "   -------------------- ------------------- 63.6/124.9 MB 12.4 MB/s eta 0:00:05\n",
      "   -------------------- ------------------- 64.1/124.9 MB 12.1 MB/s eta 0:00:06\n",
      "   -------------------- ------------------- 64.7/124.9 MB 11.9 MB/s eta 0:00:06\n",
      "   -------------------- ------------------- 65.3/124.9 MB 12.1 MB/s eta 0:00:05\n",
      "   --------------------- ------------------ 65.9/124.9 MB 12.1 MB/s eta 0:00:05\n",
      "   --------------------- ------------------ 66.4/124.9 MB 12.1 MB/s eta 0:00:05\n",
      "   --------------------- ------------------ 66.9/124.9 MB 11.9 MB/s eta 0:00:05\n",
      "   --------------------- ------------------ 67.5/124.9 MB 12.1 MB/s eta 0:00:05\n",
      "   --------------------- ------------------ 68.1/124.9 MB 11.9 MB/s eta 0:00:05\n",
      "   --------------------- ------------------ 68.6/124.9 MB 12.1 MB/s eta 0:00:05\n",
      "   ---------------------- ----------------- 69.2/124.9 MB 12.3 MB/s eta 0:00:05\n",
      "   ---------------------- ----------------- 69.8/124.9 MB 12.4 MB/s eta 0:00:05\n",
      "   ---------------------- ----------------- 70.4/124.9 MB 12.4 MB/s eta 0:00:05\n",
      "   ---------------------- ----------------- 71.1/124.9 MB 12.4 MB/s eta 0:00:05\n",
      "   ---------------------- ----------------- 71.4/124.9 MB 12.1 MB/s eta 0:00:05\n",
      "   ----------------------- ---------------- 71.9/124.9 MB 12.1 MB/s eta 0:00:05\n",
      "   ----------------------- ---------------- 72.3/124.9 MB 11.9 MB/s eta 0:00:05\n",
      "   ----------------------- ---------------- 72.8/124.9 MB 11.7 MB/s eta 0:00:05\n",
      "   ----------------------- ---------------- 73.3/124.9 MB 11.7 MB/s eta 0:00:05\n",
      "   ----------------------- ---------------- 73.9/124.9 MB 11.7 MB/s eta 0:00:05\n",
      "   ----------------------- ---------------- 74.4/124.9 MB 11.7 MB/s eta 0:00:05\n",
      "   ----------------------- ---------------- 74.9/124.9 MB 11.7 MB/s eta 0:00:05\n",
      "   ------------------------ --------------- 75.5/124.9 MB 11.7 MB/s eta 0:00:05\n",
      "   ------------------------ --------------- 76.2/124.9 MB 11.7 MB/s eta 0:00:05\n",
      "   ------------------------ --------------- 76.7/124.9 MB 11.7 MB/s eta 0:00:05\n",
      "   ------------------------ --------------- 77.2/124.9 MB 11.7 MB/s eta 0:00:05\n",
      "   ------------------------ --------------- 77.6/124.9 MB 11.5 MB/s eta 0:00:05\n",
      "   ------------------------- -------------- 78.1/124.9 MB 11.5 MB/s eta 0:00:05\n",
      "   ------------------------- -------------- 78.7/124.9 MB 11.5 MB/s eta 0:00:05\n",
      "   ------------------------- -------------- 79.3/124.9 MB 11.5 MB/s eta 0:00:04\n",
      "   ------------------------- -------------- 79.9/124.9 MB 11.5 MB/s eta 0:00:04\n",
      "   ------------------------- -------------- 80.5/124.9 MB 11.5 MB/s eta 0:00:04\n",
      "   ------------------------- -------------- 81.2/124.9 MB 11.5 MB/s eta 0:00:04\n",
      "   -------------------------- ------------- 81.8/124.9 MB 11.7 MB/s eta 0:00:04\n",
      "   -------------------------- ------------- 82.2/124.9 MB 11.7 MB/s eta 0:00:04\n",
      "   -------------------------- ------------- 82.8/124.9 MB 11.7 MB/s eta 0:00:04\n",
      "   -------------------------- ------------- 83.3/124.9 MB 11.9 MB/s eta 0:00:04\n",
      "   -------------------------- ------------- 83.8/124.9 MB 11.9 MB/s eta 0:00:04\n",
      "   -------------------------- ------------- 84.2/124.9 MB 11.7 MB/s eta 0:00:04\n",
      "   --------------------------- ------------ 84.7/124.9 MB 11.7 MB/s eta 0:00:04\n",
      "   --------------------------- ------------ 85.2/124.9 MB 11.7 MB/s eta 0:00:04\n",
      "   --------------------------- ------------ 85.8/124.9 MB 11.7 MB/s eta 0:00:04\n",
      "   --------------------------- ------------ 86.3/124.9 MB 11.5 MB/s eta 0:00:04\n",
      "   --------------------------- ------------ 86.9/124.9 MB 11.5 MB/s eta 0:00:04\n",
      "   ---------------------------- ----------- 87.5/124.9 MB 11.7 MB/s eta 0:00:04\n",
      "   ---------------------------- ----------- 87.9/124.9 MB 11.7 MB/s eta 0:00:04\n",
      "   ---------------------------- ----------- 88.5/124.9 MB 11.7 MB/s eta 0:00:04\n",
      "   ---------------------------- ----------- 88.5/124.9 MB 11.7 MB/s eta 0:00:04\n",
      "   ---------------------------- ----------- 88.5/124.9 MB 11.7 MB/s eta 0:00:04\n",
      "   ---------------------------- ----------- 88.5/124.9 MB 11.7 MB/s eta 0:00:04\n",
      "   ---------------------------- ----------- 88.5/124.9 MB 11.7 MB/s eta 0:00:04\n",
      "   ---------------------------- ----------- 88.5/124.9 MB 11.7 MB/s eta 0:00:04\n",
      "   ---------------------------- ----------- 88.5/124.9 MB 11.7 MB/s eta 0:00:04\n",
      "   ---------------------------- ----------- 88.5/124.9 MB 11.7 MB/s eta 0:00:04\n",
      "   ---------------------------- ----------- 88.5/124.9 MB 11.7 MB/s eta 0:00:04\n",
      "   ---------------------------- ----------- 88.5/124.9 MB 11.7 MB/s eta 0:00:04\n",
      "   ---------------------------- ----------- 88.5/124.9 MB 11.7 MB/s eta 0:00:04\n",
      "   ---------------------------- ----------- 88.5/124.9 MB 11.7 MB/s eta 0:00:04\n",
      "   ---------------------------- ----------- 88.5/124.9 MB 11.7 MB/s eta 0:00:04\n",
      "   ---------------------------- ----------- 88.5/124.9 MB 11.7 MB/s eta 0:00:04\n",
      "   ---------------------------- ----------- 88.5/124.9 MB 11.7 MB/s eta 0:00:04\n",
      "   ---------------------------- ----------- 88.5/124.9 MB 11.7 MB/s eta 0:00:04\n",
      "   ---------------------------- ----------- 88.5/124.9 MB 11.7 MB/s eta 0:00:04\n",
      "   ---------------------------- ----------- 88.5/124.9 MB 11.7 MB/s eta 0:00:04\n",
      "   ---------------------------- ----------- 88.5/124.9 MB 11.7 MB/s eta 0:00:04\n",
      "   ---------------------------- ----------- 88.5/124.9 MB 11.7 MB/s eta 0:00:04\n",
      "   ---------------------------- ----------- 88.5/124.9 MB 11.7 MB/s eta 0:00:04\n",
      "   ---------------------------- ----------- 88.5/124.9 MB 11.7 MB/s eta 0:00:04\n",
      "   ---------------------------- ----------- 88.5/124.9 MB 11.7 MB/s eta 0:00:04\n",
      "   ---------------------------- ----------- 88.5/124.9 MB 11.7 MB/s eta 0:00:04\n",
      "   ---------------------------- ----------- 88.5/124.9 MB 11.7 MB/s eta 0:00:04\n",
      "   ---------------------------- ----------- 88.5/124.9 MB 11.7 MB/s eta 0:00:04\n",
      "   ---------------------------- ----------- 88.5/124.9 MB 11.7 MB/s eta 0:00:04\n",
      "   ---------------------------- ----------- 88.5/124.9 MB 11.7 MB/s eta 0:00:04\n",
      "   ---------------------------- ----------- 88.5/124.9 MB 11.7 MB/s eta 0:00:04\n",
      "   ---------------------------- ----------- 88.5/124.9 MB 11.7 MB/s eta 0:00:04\n",
      "   ---------------------------- ----------- 88.5/124.9 MB 11.7 MB/s eta 0:00:04\n",
      "   ---------------------------- ----------- 88.5/124.9 MB 11.7 MB/s eta 0:00:04\n",
      "   ---------------------------- ----------- 88.5/124.9 MB 11.7 MB/s eta 0:00:04\n",
      "   ---------------------------- ----------- 88.5/124.9 MB 11.7 MB/s eta 0:00:04\n",
      "   ---------------------------- ----------- 88.5/124.9 MB 11.7 MB/s eta 0:00:04\n",
      "   ---------------------------- ----------- 88.5/124.9 MB 11.7 MB/s eta 0:00:04\n",
      "   ---------------------------- ----------- 88.5/124.9 MB 11.7 MB/s eta 0:00:04\n",
      "   ---------------------------- ----------- 88.5/124.9 MB 11.7 MB/s eta 0:00:04\n",
      "   ---------------------------- ----------- 88.5/124.9 MB 11.7 MB/s eta 0:00:04\n",
      "   ---------------------------- ----------- 88.5/124.9 MB 11.7 MB/s eta 0:00:04\n",
      "   ---------------------------- ----------- 88.5/124.9 MB 11.7 MB/s eta 0:00:04\n",
      "   ---------------------------- ----------- 88.5/124.9 MB 11.7 MB/s eta 0:00:04\n",
      "   ---------------------------- ----------- 88.5/124.9 MB 11.7 MB/s eta 0:00:04\n",
      "   ---------------------------- ----------- 88.5/124.9 MB 11.7 MB/s eta 0:00:04\n",
      "   ---------------------------- ----------- 88.5/124.9 MB 11.7 MB/s eta 0:00:04\n",
      "   ---------------------------- ----------- 88.5/124.9 MB 11.7 MB/s eta 0:00:04\n",
      "   ---------------------------- ----------- 88.5/124.9 MB 11.7 MB/s eta 0:00:04\n",
      "   ---------------------------- ----------- 88.5/124.9 MB 11.7 MB/s eta 0:00:04\n",
      "   ---------------------------- ----------- 88.5/124.9 MB 11.7 MB/s eta 0:00:04\n",
      "   ---------------------------- ----------- 88.5/124.9 MB 11.7 MB/s eta 0:00:04\n",
      "   ---------------------------- ----------- 88.5/124.9 MB 11.7 MB/s eta 0:00:04\n",
      "   ---------------------------- ----------- 88.5/124.9 MB 11.7 MB/s eta 0:00:04\n",
      "   ---------------------------- ----------- 88.5/124.9 MB 11.7 MB/s eta 0:00:04\n",
      "   ---------------------------- ----------- 88.5/124.9 MB 11.7 MB/s eta 0:00:04\n",
      "   ---------------------------- ----------- 88.5/124.9 MB 11.7 MB/s eta 0:00:04\n",
      "   ---------------------------- ----------- 88.5/124.9 MB 11.7 MB/s eta 0:00:04\n",
      "   ---------------------------- ----------- 88.5/124.9 MB 11.7 MB/s eta 0:00:04\n",
      "   ---------------------------- ----------- 88.5/124.9 MB 11.7 MB/s eta 0:00:04\n",
      "   ---------------------------- ----------- 88.5/124.9 MB 11.7 MB/s eta 0:00:04\n",
      "   ---------------------------- ----------- 88.5/124.9 MB 11.7 MB/s eta 0:00:04\n",
      "   ---------------------------- ----------- 88.5/124.9 MB 11.7 MB/s eta 0:00:04\n",
      "   ---------------------------- ----------- 88.5/124.9 MB 11.7 MB/s eta 0:00:04\n",
      "   ---------------------------- ----------- 88.5/124.9 MB 11.7 MB/s eta 0:00:04\n",
      "   ---------------------------- ----------- 88.5/124.9 MB 11.7 MB/s eta 0:00:04\n",
      "   ---------------------------- ----------- 88.5/124.9 MB 11.7 MB/s eta 0:00:04\n",
      "   ---------------------------- ----------- 88.5/124.9 MB 11.7 MB/s eta 0:00:04\n",
      "   ---------------------------- ----------- 88.5/124.9 MB 11.7 MB/s eta 0:00:04\n",
      "   ---------------------------- ----------- 88.5/124.9 MB 11.7 MB/s eta 0:00:04\n",
      "   ---------------------------- ----------- 88.5/124.9 MB 11.7 MB/s eta 0:00:04\n",
      "   ---------------------------- ----------- 88.5/124.9 MB 11.7 MB/s eta 0:00:04\n",
      "   ---------------------------- ----------- 88.5/124.9 MB 11.7 MB/s eta 0:00:04\n",
      "   ---------------------------- ----------- 88.5/124.9 MB 11.7 MB/s eta 0:00:04\n",
      "   ---------------------------- ----------- 88.5/124.9 MB 11.7 MB/s eta 0:00:04\n",
      "   ---------------------------- ----------- 88.5/124.9 MB 11.7 MB/s eta 0:00:04\n",
      "   ---------------------------- ----------- 88.5/124.9 MB 11.7 MB/s eta 0:00:04\n",
      "   ---------------------------- ----------- 88.5/124.9 MB 11.7 MB/s eta 0:00:04\n",
      "   ---------------------------- ----------- 88.5/124.9 MB 11.7 MB/s eta 0:00:04\n",
      "   ---------------------------- ----------- 88.5/124.9 MB 11.7 MB/s eta 0:00:04\n",
      "   ---------------------------- ----------- 88.5/124.9 MB 11.7 MB/s eta 0:00:04\n",
      "   ---------------------------- ----------- 88.5/124.9 MB 11.7 MB/s eta 0:00:04\n",
      "   ---------------------------- ----------- 88.5/124.9 MB 11.7 MB/s eta 0:00:04\n",
      "   ---------------------------- ----------- 88.5/124.9 MB 11.7 MB/s eta 0:00:04\n",
      "   ---------------------------- ----------- 88.5/124.9 MB 11.7 MB/s eta 0:00:04\n",
      "   ---------------------------- ----------- 88.5/124.9 MB 11.7 MB/s eta 0:00:04\n",
      "   ---------------------------- ----------- 88.5/124.9 MB 11.7 MB/s eta 0:00:04\n",
      "   ---------------------------- ----------- 88.5/124.9 MB 11.7 MB/s eta 0:00:04\n",
      "   ---------------------------- ----------- 88.5/124.9 MB 11.7 MB/s eta 0:00:04\n",
      "   ---------------------------- ----------- 88.5/124.9 MB 11.7 MB/s eta 0:00:04\n",
      "   ---------------------------- ----------- 88.5/124.9 MB 11.7 MB/s eta 0:00:04\n",
      "   ---------------------------- ----------- 88.5/124.9 MB 11.7 MB/s eta 0:00:04\n",
      "   ---------------------------- ----------- 88.5/124.9 MB 11.7 MB/s eta 0:00:04\n",
      "   ---------------------------- ----------- 88.5/124.9 MB 11.7 MB/s eta 0:00:04\n",
      "   ---------------------------- ----------- 88.5/124.9 MB 11.7 MB/s eta 0:00:04\n",
      "   ---------------------------- ----------- 88.5/124.9 MB 11.7 MB/s eta 0:00:04\n",
      "   ---------------------------- ----------- 88.5/124.9 MB 11.7 MB/s eta 0:00:04\n",
      "   ---------------------------- ----------- 88.5/124.9 MB 11.7 MB/s eta 0:00:04\n",
      "   ---------------------------- ----------- 88.6/124.9 MB 1.9 MB/s eta 0:00:20\n",
      "   ---------------------------- ----------- 88.7/124.9 MB 1.8 MB/s eta 0:00:20\n",
      "   ---------------------------- ----------- 88.8/124.9 MB 1.8 MB/s eta 0:00:20\n",
      "   ---------------------------- ----------- 89.3/124.9 MB 1.8 MB/s eta 0:00:20\n",
      "   ---------------------------- ----------- 89.7/124.9 MB 1.8 MB/s eta 0:00:20\n",
      "   ---------------------------- ----------- 90.3/124.9 MB 1.8 MB/s eta 0:00:20\n",
      "   ----------------------------- ---------- 90.8/124.9 MB 1.8 MB/s eta 0:00:19\n",
      "   ----------------------------- ---------- 91.4/124.9 MB 1.8 MB/s eta 0:00:19\n",
      "   ----------------------------- ---------- 91.9/124.9 MB 1.8 MB/s eta 0:00:19\n",
      "   ----------------------------- ---------- 92.5/124.9 MB 1.8 MB/s eta 0:00:18\n",
      "   ----------------------------- ---------- 93.1/124.9 MB 1.8 MB/s eta 0:00:18\n",
      "   ------------------------------ --------- 93.7/124.9 MB 1.8 MB/s eta 0:00:18\n",
      "   ------------------------------ --------- 94.3/124.9 MB 1.8 MB/s eta 0:00:17\n",
      "   ------------------------------ --------- 94.9/124.9 MB 1.8 MB/s eta 0:00:17\n",
      "   ------------------------------ --------- 95.5/124.9 MB 1.8 MB/s eta 0:00:17\n",
      "   ------------------------------ --------- 96.0/124.9 MB 1.8 MB/s eta 0:00:16\n",
      "   ------------------------------ --------- 96.5/124.9 MB 1.8 MB/s eta 0:00:16\n",
      "   ------------------------------- -------- 97.1/124.9 MB 1.8 MB/s eta 0:00:16\n",
      "   ------------------------------- -------- 97.6/124.9 MB 1.8 MB/s eta 0:00:16\n",
      "   ------------------------------- -------- 98.0/124.9 MB 1.8 MB/s eta 0:00:15\n",
      "   ------------------------------- -------- 98.9/124.9 MB 11.1 MB/s eta 0:00:03\n",
      "   ------------------------------- -------- 99.3/124.9 MB 11.7 MB/s eta 0:00:03\n",
      "   ------------------------------- ------- 100.0/124.9 MB 12.1 MB/s eta 0:00:03\n",
      "   ------------------------------- ------- 100.5/124.9 MB 11.9 MB/s eta 0:00:03\n",
      "   ------------------------------- ------- 101.0/124.9 MB 12.1 MB/s eta 0:00:02\n",
      "   ------------------------------- ------- 101.5/124.9 MB 12.1 MB/s eta 0:00:02\n",
      "   ------------------------------- ------- 102.3/124.9 MB 12.1 MB/s eta 0:00:02\n",
      "   -------------------------------- ------ 102.8/124.9 MB 12.1 MB/s eta 0:00:02\n",
      "   -------------------------------- ------ 103.4/124.9 MB 12.1 MB/s eta 0:00:02\n",
      "   -------------------------------- ------ 104.0/124.9 MB 12.1 MB/s eta 0:00:02\n",
      "   -------------------------------- ------ 104.4/124.9 MB 11.9 MB/s eta 0:00:02\n",
      "   -------------------------------- ------ 105.0/124.9 MB 11.9 MB/s eta 0:00:02\n",
      "   -------------------------------- ------ 105.5/124.9 MB 11.9 MB/s eta 0:00:02\n",
      "   --------------------------------- ----- 106.1/124.9 MB 11.9 MB/s eta 0:00:02\n",
      "   --------------------------------- ----- 106.6/124.9 MB 11.9 MB/s eta 0:00:02\n",
      "   --------------------------------- ----- 107.1/124.9 MB 11.9 MB/s eta 0:00:02\n",
      "   --------------------------------- ----- 107.7/124.9 MB 11.9 MB/s eta 0:00:02\n",
      "   --------------------------------- ----- 108.2/124.9 MB 12.1 MB/s eta 0:00:02\n",
      "   --------------------------------- ----- 108.8/124.9 MB 11.7 MB/s eta 0:00:02\n",
      "   ---------------------------------- ---- 109.3/124.9 MB 11.9 MB/s eta 0:00:02\n",
      "   ---------------------------------- ---- 109.9/124.9 MB 11.9 MB/s eta 0:00:02\n",
      "   ---------------------------------- ---- 110.4/124.9 MB 11.7 MB/s eta 0:00:02\n",
      "   ---------------------------------- ---- 111.0/124.9 MB 11.7 MB/s eta 0:00:02\n",
      "   ---------------------------------- ---- 111.4/124.9 MB 11.7 MB/s eta 0:00:02\n",
      "   ---------------------------------- ---- 111.9/124.9 MB 11.5 MB/s eta 0:00:02\n",
      "   ----------------------------------- --- 112.4/124.9 MB 11.3 MB/s eta 0:00:02\n",
      "   ----------------------------------- --- 113.0/124.9 MB 11.3 MB/s eta 0:00:02\n",
      "   ----------------------------------- --- 113.6/124.9 MB 11.5 MB/s eta 0:00:01\n",
      "   ----------------------------------- --- 114.2/124.9 MB 11.5 MB/s eta 0:00:01\n",
      "   ----------------------------------- --- 114.7/124.9 MB 11.5 MB/s eta 0:00:01\n",
      "   ------------------------------------ -- 115.3/124.9 MB 11.7 MB/s eta 0:00:01\n",
      "   ------------------------------------ -- 115.9/124.9 MB 11.7 MB/s eta 0:00:01\n",
      "   ------------------------------------ -- 116.4/124.9 MB 11.5 MB/s eta 0:00:01\n",
      "   ------------------------------------ -- 117.0/124.9 MB 11.7 MB/s eta 0:00:01\n",
      "   ------------------------------------ -- 117.7/124.9 MB 11.7 MB/s eta 0:00:01\n",
      "   ------------------------------------ -- 118.3/124.9 MB 11.7 MB/s eta 0:00:01\n",
      "   ------------------------------------- - 118.8/124.9 MB 11.7 MB/s eta 0:00:01\n",
      "   ------------------------------------- - 119.3/124.9 MB 11.7 MB/s eta 0:00:01\n",
      "   ------------------------------------- - 119.9/124.9 MB 11.5 MB/s eta 0:00:01\n",
      "   ------------------------------------- - 120.4/124.9 MB 11.7 MB/s eta 0:00:01\n",
      "   ------------------------------------- - 120.8/124.9 MB 11.7 MB/s eta 0:00:01\n",
      "   ------------------------------------- - 121.5/124.9 MB 11.7 MB/s eta 0:00:01\n",
      "   --------------------------------------  122.0/124.9 MB 11.7 MB/s eta 0:00:01\n",
      "   --------------------------------------  122.6/124.9 MB 11.7 MB/s eta 0:00:01\n",
      "   --------------------------------------  123.0/124.9 MB 11.5 MB/s eta 0:00:01\n",
      "   --------------------------------------  123.6/124.9 MB 11.7 MB/s eta 0:00:01\n",
      "   --------------------------------------  124.1/124.9 MB 11.5 MB/s eta 0:00:01\n",
      "   --------------------------------------  124.7/124.9 MB 11.5 MB/s eta 0:00:01\n",
      "   --------------------------------------  124.9/124.9 MB 11.7 MB/s eta 0:00:01\n",
      "   --------------------------------------  124.9/124.9 MB 11.7 MB/s eta 0:00:01\n",
      "   --------------------------------------  124.9/124.9 MB 11.7 MB/s eta 0:00:01\n",
      "   --------------------------------------  124.9/124.9 MB 11.7 MB/s eta 0:00:01\n",
      "   --------------------------------------  124.9/124.9 MB 11.7 MB/s eta 0:00:01\n",
      "   --------------------------------------  124.9/124.9 MB 11.7 MB/s eta 0:00:01\n",
      "   --------------------------------------  124.9/124.9 MB 11.7 MB/s eta 0:00:01\n",
      "   ---------------------------------------- 124.9/124.9 MB 8.5 MB/s eta 0:00:00\n",
      "Installing collected packages: xgboost\n",
      "Successfully installed xgboost-2.1.0\n",
      "Note: you may need to restart the kernel to use updated packages.\n"
     ]
    }
   ],
   "source": [
    "pip install xgboost"
   ]
  },
  {
   "cell_type": "code",
   "execution_count": 103,
   "id": "4767b493-e0b7-40fe-a384-fdd948ec7ed2",
   "metadata": {},
   "outputs": [],
   "source": [
    "from xgboost import XGBClassifier\n"
   ]
  },
  {
   "cell_type": "code",
   "execution_count": 105,
   "id": "fe7e437d-0a56-45e9-aca2-4f1eb95357e9",
   "metadata": {},
   "outputs": [],
   "source": [
    "model_xgb=XGBClassifier(max_depth=2)\n",
    "model_xgb.fit(x_train,y_train)\n",
    "y_pred_xgb=model_xgb.predict(x_test)"
   ]
  },
  {
   "cell_type": "code",
   "execution_count": 107,
   "id": "c0358e1c-cdaf-4aed-aca1-43371980124e",
   "metadata": {},
   "outputs": [
    {
     "name": "stdout",
     "output_type": "stream",
     "text": [
      "The accuracy of the model is 99.91%\n"
     ]
    }
   ],
   "source": [
    "print(f\"The accuracy of the model is {round(model_xgb.score(x_test,y_test)*100,2)}%\")"
   ]
  },
  {
   "cell_type": "code",
   "execution_count": 109,
   "id": "2b9a47de-9c35-4a6c-96bc-21f1c3dcf761",
   "metadata": {},
   "outputs": [
    {
     "name": "stdout",
     "output_type": "stream",
     "text": [
      "F1-Score of the model is 0.86\n"
     ]
    }
   ],
   "source": [
    "print(f\"F1-Score of the model is {round(f1_score(y_test,y_pred_xgb),2)}\")"
   ]
  },
  {
   "cell_type": "markdown",
   "id": "a7d2179c-87c5-4482-950a-3e1e925949db",
   "metadata": {},
   "source": [
    "## Checking performance of the all the models"
   ]
  },
  {
   "cell_type": "code",
   "execution_count": 114,
   "id": "7b1e423b-958f-4756-a780-0196606c0714",
   "metadata": {},
   "outputs": [],
   "source": [
    "from sklearn import metrics"
   ]
  },
  {
   "cell_type": "code",
   "execution_count": 118,
   "id": "73ca37ec-db69-4ece-88df-60e7a1816769",
   "metadata": {},
   "outputs": [
    {
     "data": {
      "image/png": "[encoded data removed]",
      "text/plain": [
       "<Figure size 640x480 with 6 Axes>"
      ]
     },
     "metadata": {},
     "output_type": "display_data"
    },
    {
     "data": {
      "image/png": "[encoded data removed]",
      "text/plain": [
       "<Figure size 1000x700 with 1 Axes>"
      ]
     },
     "metadata": {},
     "output_type": "display_data"
    }
   ],
   "source": [
    "#xgbbost\n",
    "fpr_xgb, tpr_xgb, _ = metrics.roc_curve(y_test,  y_pred_xgb)\n",
    "auc_xgb = metrics.roc_auc_score(y_test, y_pred_xgb)\n",
    "#logistic-regression\n",
    "fpr_log, tpr_log, _ = metrics.roc_curve(y_test,  y_pred_log)\n",
    "auc_log = metrics.roc_auc_score(y_test, y_pred_log)\n",
    "#random-forest\n",
    "fpr_rand, tpr_rand, _ = metrics.roc_curve(y_test,  y_pred_random)\n",
    "auc_rand = metrics.roc_auc_score(y_test, y_pred_random)\n",
    "\n",
    "\n",
    "\n",
    "with plt.style.context(('ggplot')):\n",
    "    plt.figure(figsize=(10,7))\n",
    "    plt.title(\"ROC Curve\")\n",
    "    plt.plot(fpr_xgb,tpr_xgb,label=\"AUC_XGB=\"+str(auc_xgb))\n",
    "    plt.plot(fpr_log,tpr_log,label=\"AUC_Logistic_Regression=\"+str(auc_log))\n",
    "    plt.plot(fpr_rand,tpr_rand,label=\"AUC_Random_Forest=\"+str(auc_rand))\n",
    "    plt.ylabel('True Positive Rate')\n",
    "    plt.xlabel('False Positive Rate')\n",
    "    plt.legend(loc=4)\n",
    "    plt.show()"
   ]
  },
  {
   "cell_type": "code",
   "execution_count": null,
   "id": "a4174491-6d04-415c-b803-4d6c28ed8451",
   "metadata": {},
   "outputs": [],
   "source": []
  }
 ],
 "metadata": {
  "kernelspec": {
   "display_name": "Python 3 (ipykernel)",
   "language": "python",
   "name": "python3"
  },
  "language_info": {
   "codemirror_mode": {
    "name": "ipython",
    "version": 3
   },
   "file_extension": ".py",
   "mimetype": "text/x-python",
   "name": "python",
   "nbconvert_exporter": "python",
   "pygments_lexer": "ipython3",
   "version": "3.12.4"
  }
 },
 "nbformat": 4,
 "nbformat_minor": 5
}
